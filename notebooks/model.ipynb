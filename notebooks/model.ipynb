{
 "cells": [
  {
   "cell_type": "markdown",
   "id": "f34d8695",
   "metadata": {},
   "source": [
    "## Mode Creation & Evaluation\n",
    "\n",
    "The goal of this notebook is to implement a KMeans clustering agorithm on our song dataset. We have aready prepared this dataset as well as reduced the dimensions so all that is needed is to build the machine learning model. In order to build the best model we need to evaluate the best number of clusters using a number of different techniques. \n",
    "\n",
    "### Imports"
   ]
  },
  {
   "cell_type": "code",
   "execution_count": 1,
   "id": "1d185c70",
   "metadata": {},
   "outputs": [],
   "source": [
    "import pandas as pd\n",
    "import matplotlib.pyplot as plt\n",
    "from sklearn.cluster import KMeans"
   ]
  },
  {
   "cell_type": "code",
   "execution_count": 2,
   "id": "8a1c315e",
   "metadata": {},
   "outputs": [
    {
     "data": {
      "text/html": [
       "<div>\n",
       "<style scoped>\n",
       "    .dataframe tbody tr th:only-of-type {\n",
       "        vertical-align: middle;\n",
       "    }\n",
       "\n",
       "    .dataframe tbody tr th {\n",
       "        vertical-align: top;\n",
       "    }\n",
       "\n",
       "    .dataframe thead th {\n",
       "        text-align: right;\n",
       "    }\n",
       "</style>\n",
       "<table border=\"1\" class=\"dataframe\">\n",
       "  <thead>\n",
       "    <tr style=\"text-align: right;\">\n",
       "      <th></th>\n",
       "      <th>pca_1</th>\n",
       "      <th>pca_2</th>\n",
       "      <th>pca_3</th>\n",
       "      <th>pca_4</th>\n",
       "      <th>pca_5</th>\n",
       "      <th>pca_6</th>\n",
       "      <th>pca_7</th>\n",
       "      <th>pca_8</th>\n",
       "      <th>pca_9</th>\n",
       "      <th>pca_10</th>\n",
       "      <th>pca_11</th>\n",
       "      <th>pca_12</th>\n",
       "      <th>pca_13</th>\n",
       "      <th>pca_14</th>\n",
       "      <th>pca_15</th>\n",
       "      <th>pca_16</th>\n",
       "      <th>pca_17</th>\n",
       "    </tr>\n",
       "  </thead>\n",
       "  <tbody>\n",
       "    <tr>\n",
       "      <th>0</th>\n",
       "      <td>0.830080</td>\n",
       "      <td>0.465905</td>\n",
       "      <td>-0.682907</td>\n",
       "      <td>0.459775</td>\n",
       "      <td>-0.048157</td>\n",
       "      <td>-0.023009</td>\n",
       "      <td>0.024281</td>\n",
       "      <td>-0.025027</td>\n",
       "      <td>-0.047490</td>\n",
       "      <td>-0.039174</td>\n",
       "      <td>0.233376</td>\n",
       "      <td>-0.402060</td>\n",
       "      <td>-0.016817</td>\n",
       "      <td>0.178287</td>\n",
       "      <td>0.170505</td>\n",
       "      <td>-0.288195</td>\n",
       "      <td>-0.012519</td>\n",
       "    </tr>\n",
       "    <tr>\n",
       "      <th>1</th>\n",
       "      <td>0.156028</td>\n",
       "      <td>0.484808</td>\n",
       "      <td>0.563210</td>\n",
       "      <td>1.048371</td>\n",
       "      <td>0.018856</td>\n",
       "      <td>-0.094235</td>\n",
       "      <td>-0.023386</td>\n",
       "      <td>0.027350</td>\n",
       "      <td>-0.155324</td>\n",
       "      <td>-0.096387</td>\n",
       "      <td>0.215231</td>\n",
       "      <td>-0.415944</td>\n",
       "      <td>0.055307</td>\n",
       "      <td>-0.189985</td>\n",
       "      <td>0.032939</td>\n",
       "      <td>0.016462</td>\n",
       "      <td>-0.167165</td>\n",
       "    </tr>\n",
       "    <tr>\n",
       "      <th>2</th>\n",
       "      <td>0.160762</td>\n",
       "      <td>0.465310</td>\n",
       "      <td>-0.179918</td>\n",
       "      <td>0.571027</td>\n",
       "      <td>0.124836</td>\n",
       "      <td>-0.460624</td>\n",
       "      <td>0.371389</td>\n",
       "      <td>0.879080</td>\n",
       "      <td>0.309662</td>\n",
       "      <td>-0.470147</td>\n",
       "      <td>0.131147</td>\n",
       "      <td>-0.271094</td>\n",
       "      <td>0.260590</td>\n",
       "      <td>0.244919</td>\n",
       "      <td>0.033745</td>\n",
       "      <td>-0.089019</td>\n",
       "      <td>0.044353</td>\n",
       "    </tr>\n",
       "    <tr>\n",
       "      <th>3</th>\n",
       "      <td>0.186446</td>\n",
       "      <td>0.500750</td>\n",
       "      <td>-0.241657</td>\n",
       "      <td>0.581487</td>\n",
       "      <td>0.093614</td>\n",
       "      <td>-0.325202</td>\n",
       "      <td>0.243419</td>\n",
       "      <td>0.480467</td>\n",
       "      <td>-0.167322</td>\n",
       "      <td>0.356914</td>\n",
       "      <td>0.948602</td>\n",
       "      <td>0.236601</td>\n",
       "      <td>-0.070167</td>\n",
       "      <td>-0.225043</td>\n",
       "      <td>0.025192</td>\n",
       "      <td>-0.059804</td>\n",
       "      <td>0.182145</td>\n",
       "    </tr>\n",
       "    <tr>\n",
       "      <th>4</th>\n",
       "      <td>0.163122</td>\n",
       "      <td>0.496285</td>\n",
       "      <td>-0.100136</td>\n",
       "      <td>0.665255</td>\n",
       "      <td>0.078643</td>\n",
       "      <td>-0.305063</td>\n",
       "      <td>0.231376</td>\n",
       "      <td>0.456500</td>\n",
       "      <td>-0.183614</td>\n",
       "      <td>0.352033</td>\n",
       "      <td>0.970249</td>\n",
       "      <td>0.245529</td>\n",
       "      <td>-0.007566</td>\n",
       "      <td>-0.210335</td>\n",
       "      <td>-0.015700</td>\n",
       "      <td>-0.051985</td>\n",
       "      <td>0.007990</td>\n",
       "    </tr>\n",
       "  </tbody>\n",
       "</table>\n",
       "</div>"
      ],
      "text/plain": [
       "      pca_1     pca_2     pca_3     pca_4     pca_5     pca_6     pca_7  \\\n",
       "0  0.830080  0.465905 -0.682907  0.459775 -0.048157 -0.023009  0.024281   \n",
       "1  0.156028  0.484808  0.563210  1.048371  0.018856 -0.094235 -0.023386   \n",
       "2  0.160762  0.465310 -0.179918  0.571027  0.124836 -0.460624  0.371389   \n",
       "3  0.186446  0.500750 -0.241657  0.581487  0.093614 -0.325202  0.243419   \n",
       "4  0.163122  0.496285 -0.100136  0.665255  0.078643 -0.305063  0.231376   \n",
       "\n",
       "      pca_8     pca_9    pca_10    pca_11    pca_12    pca_13    pca_14  \\\n",
       "0 -0.025027 -0.047490 -0.039174  0.233376 -0.402060 -0.016817  0.178287   \n",
       "1  0.027350 -0.155324 -0.096387  0.215231 -0.415944  0.055307 -0.189985   \n",
       "2  0.879080  0.309662 -0.470147  0.131147 -0.271094  0.260590  0.244919   \n",
       "3  0.480467 -0.167322  0.356914  0.948602  0.236601 -0.070167 -0.225043   \n",
       "4  0.456500 -0.183614  0.352033  0.970249  0.245529 -0.007566 -0.210335   \n",
       "\n",
       "     pca_15    pca_16    pca_17  \n",
       "0  0.170505 -0.288195 -0.012519  \n",
       "1  0.032939  0.016462 -0.167165  \n",
       "2  0.033745 -0.089019  0.044353  \n",
       "3  0.025192 -0.059804  0.182145  \n",
       "4 -0.015700 -0.051985  0.007990  "
      ]
     },
     "execution_count": 2,
     "metadata": {},
     "output_type": "execute_result"
    }
   ],
   "source": [
    "df = pd.read_csv('../data/train_pca.csv')\n",
    "df.head()"
   ]
  },
  {
   "cell_type": "markdown",
   "id": "b25bdf51",
   "metadata": {},
   "source": [
    "### KMeans Clustering\n",
    "\n",
    "To begin we will build a K-Means clustering model, but in order to select the optimal number of clusters we must use the elbow method. This is a well known method that is used to choose the optimal number of clusters in K-Means clustering by plotting the number of clusters by the total inertia of said clusters. "
   ]
  },
  {
   "cell_type": "code",
   "execution_count": 3,
   "id": "1e034a89",
   "metadata": {},
   "outputs": [],
   "source": [
    "#we will test out multiple clustering models here\n",
    "inertias = []\n",
    "for num_clusters in range(2, 15):\n",
    "    kmeans = KMeans(n_clusters=num_clusters, init='k-means++')\n",
    "    kmeans.fit(df)\n",
    "    inertias.append(kmeans.inertia_)"
   ]
  },
  {
   "cell_type": "code",
   "execution_count": 4,
   "id": "a85fbbc5",
   "metadata": {},
   "outputs": [
    {
     "data": {
      "image/png": "[encoded data removed]",
      "text/plain": [
       "<Figure size 432x288 with 1 Axes>"
      ]
     },
     "metadata": {
      "needs_background": "light"
     },
     "output_type": "display_data"
    }
   ],
   "source": [
    "#plot inertia by number of clusters\n",
    "plt.plot(range(2, 15), inertias, 'o')\n",
    "plt.title('Elbow Plot: Inertias by # of Clusters')\n",
    "plt.xlabel('# Clusters')\n",
    "plt.ylabel('Inertia')\n",
    "plt.show()"
   ]
  },
  {
   "cell_type": "code",
   "execution_count": 13,
   "id": "9bf8b7e0",
   "metadata": {},
   "outputs": [
    {
     "data": {
      "text/plain": [
       "array([5], dtype=int32)"
      ]
     },
     "execution_count": 13,
     "metadata": {},
     "output_type": "execute_result"
    }
   ],
   "source": [
    "kmeans.predict(df.iloc[1, :].to_numpy().reshape(1, -1))"
   ]
  },
  {
   "cell_type": "code",
   "execution_count": null,
   "id": "5e37967c",
   "metadata": {},
   "outputs": [],
   "source": []
  },
  {
   "cell_type": "code",
   "execution_count": null,
   "id": "7c8ba957",
   "metadata": {},
   "outputs": [],
   "source": []
  },
  {
   "cell_type": "code",
   "execution_count": null,
   "id": "527f642e",
   "metadata": {},
   "outputs": [],
   "source": []
  },
  {
   "cell_type": "code",
   "execution_count": null,
   "id": "29111a01",
   "metadata": {},
   "outputs": [],
   "source": [
    "450000"
   ]
  }
 ],
 "metadata": {
  "kernelspec": {
   "display_name": "Python 3",
   "language": "python",
   "name": "python3"
  },
  "language_info": {
   "codemirror_mode": {
    "name": "ipython",
    "version": 3
   },
   "file_extension": ".py",
   "mimetype": "text/x-python",
   "name": "python",
   "nbconvert_exporter": "python",
   "pygments_lexer": "ipython3",
   "version": "3.8.5"
  }
 },
 "nbformat": 4,
 "nbformat_minor": 5
}
